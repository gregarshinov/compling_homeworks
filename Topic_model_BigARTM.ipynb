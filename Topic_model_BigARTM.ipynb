{
 "cells": [
  {
   "cell_type": "code",
   "execution_count": null,
   "metadata": {
    "colab": {
     "base_uri": "https://localhost:8080/",
     "height": 254
    },
    "colab_type": "code",
    "id": "onayCA5_0bOP",
    "outputId": "61ad39d5-9c99-4f60-d68b-9bc6a85f1a2c"
   },
   "outputs": [],
   "source": [
    "!apt-get --yes install make cmake build-essential libboost-all-dev"
   ]
  },
  {
   "cell_type": "code",
   "execution_count": null,
   "metadata": {
    "colab": {
     "base_uri": "https://localhost:8080/",
     "height": 108
    },
    "colab_type": "code",
    "id": "RUiaLQ520oZH",
    "outputId": "83a25ab8-4b67-4abf-e01f-031c16e08e10",
    "scrolled": true
   },
   "outputs": [],
   "source": [
    "!pip install protobuf tqdm wheel"
   ]
  },
  {
   "cell_type": "code",
   "execution_count": null,
   "metadata": {
    "colab": {
     "base_uri": "https://localhost:8080/",
     "height": 145
    },
    "colab_type": "code",
    "id": "XUB9Dk0-05fi",
    "outputId": "f066764a-9fff-4386-f1f1-b950b690c44e",
    "scrolled": true
   },
   "outputs": [],
   "source": [
    "!git clone --branch=stable https://github.com/bigartm/bigartm.git"
   ]
  },
  {
   "cell_type": "code",
   "execution_count": null,
   "metadata": {
    "colab": {
     "base_uri": "https://localhost:8080/",
     "height": 35
    },
    "colab_type": "code",
    "id": "C7ARp6n4081Q",
    "outputId": "a76868d8-2f10-443c-dc0c-8323c872c844",
    "scrolled": true
   },
   "outputs": [],
   "source": [
    "cd bigartm"
   ]
  },
  {
   "cell_type": "code",
   "execution_count": null,
   "metadata": {
    "colab": {},
    "colab_type": "code",
    "id": "Gy3B--b40_X0"
   },
   "outputs": [],
   "source": [
    "mkdir build"
   ]
  },
  {
   "cell_type": "code",
   "execution_count": null,
   "metadata": {
    "colab": {
     "base_uri": "https://localhost:8080/",
     "height": 35
    },
    "colab_type": "code",
    "id": "FNqpGY4_1C4n",
    "outputId": "32d580a1-dbb9-470d-eaa7-df37b12e7fbd",
    "scrolled": true
   },
   "outputs": [],
   "source": [
    "cd build"
   ]
  },
  {
   "cell_type": "code",
   "execution_count": null,
   "metadata": {
    "colab": {
     "base_uri": "https://localhost:8080/",
     "height": 1000
    },
    "colab_type": "code",
    "id": "ol4bRDUD1EDN",
    "outputId": "c9e0606c-d145-407c-a60e-63900cb73e08"
   },
   "outputs": [],
   "source": [
    "!cmake .."
   ]
  },
  {
   "cell_type": "code",
   "execution_count": null,
   "metadata": {
    "colab": {
     "base_uri": "https://localhost:8080/",
     "height": 1000
    },
    "colab_type": "code",
    "id": "AcxbRUrQ1IKk",
    "outputId": "1c525e0e-6fe5-4949-d732-77ada3404c08"
   },
   "outputs": [],
   "source": [
    "!make"
   ]
  },
  {
   "cell_type": "code",
   "execution_count": null,
   "metadata": {
    "colab": {
     "base_uri": "https://localhost:8080/",
     "height": 163
    },
    "colab_type": "code",
    "id": "lMaKS0DQ4zSE",
    "outputId": "617114c5-ce8b-4c8e-9cd8-177b78f9544a",
    "scrolled": true
   },
   "outputs": [],
   "source": [
    "!pip install python/bigartm*.whl -U"
   ]
  },
  {
   "cell_type": "markdown",
   "metadata": {
    "colab_type": "text",
    "id": "6uSd-qk2Y4-T"
   },
   "source": [
    "Вернемся в изначальную папку."
   ]
  },
  {
   "cell_type": "code",
   "execution_count": null,
   "metadata": {
    "colab": {
     "base_uri": "https://localhost:8080/",
     "height": 35
    },
    "colab_type": "code",
    "id": "0Q8b9aXoY4-U",
    "outputId": "dd5923ee-4ed1-492f-aca3-8381dd57cafb"
   },
   "outputs": [],
   "source": [
    "cd ../.. "
   ]
  },
  {
   "cell_type": "code",
   "execution_count": null,
   "metadata": {
    "colab": {
     "base_uri": "https://localhost:8080/",
     "height": 710
    },
    "colab_type": "code",
    "id": "P6Ay2Ayx3v3W",
    "outputId": "eb400bcc-fd57-4433-f5c2-ce1a9c26c68a"
   },
   "outputs": [],
   "source": [
    "!pip install matplotlib"
   ]
  },
  {
   "cell_type": "markdown",
   "metadata": {
    "colab_type": "text",
    "id": "P4I7algi2Ay6"
   },
   "source": [
    "# Домашнее задание\n",
    "\n",
    "\n",
    "Основаная задача - **построить хорошую тематическую модель с интерпретируемыми топиками с помощью BigARTM**.\n",
    "\n",
    "1) сделайте нормализацию (если pymorphy2 работает долго используйте mystem или попробуйте установить быструю версию - `pip install pymorphy2[fast]`, можно использовать какой-то другой токенизатор) \n",
    "\n",
    "2) добавьте нграммы (в тетрадке есть закомменченая ячейка с Phrases, можно также попробовать другие способы построить нграммы); \n",
    "\n",
    "3) сохраните тексты .vw формате;\n",
    "\n",
    "4) сделайте хороший словарь (отфильтруйте слишком частотные и редкие слова, попробуйте удалить стоп-слова, сохраните словарь и посмотрите на него, вдруг что-то плохое сразу будет заметно - из словаря можно просто вручную или правилом удалять строки, при загрузке ничего не сломается); \n",
    "\n",
    "5) постройте несколько ARTM моделей (переберите количество тем, поменяйте значения tau у регуляризаторов), если получаются плохие темы, поработайте дополнительно над предобработкой и словарем; \n",
    "\n",
    "6) для самой хорошей модели в отдельной ячейке напечатайте 3 хороших (на ваш вкус) темы\n",
    "\n",
    "7) в другой ячейке нарисуйте график обучения этой модели \n",
    "\n",
    "8) в третьей ячейки опишите какие параметры (количество тем, регуляризаторы, их tau) вы использовали и как обучали (например, после скольки проходов добавили регуляризатор разрежнивания тем (Phi), добавляли ли разреженность документам (Theta) и когда, как повышали значения, сколько итерации модель продожала улучшаться (снижалась перплексия, росли другие метрики);\n",
    "\n",
    "Сохраните тетрадку с экспериментами и положите её на гитхаб, ссылку на неё укажите в форме.\n",
    "\n",
    "**Оцениваться будут главным образом пункты 6, 7 и 8. (3, 1, 4 баллов соответственно). Чтобы заработать остальные 2 балла, нужно хотя бы немного изменить мой код на промежуточных этапах (добавить что-то, указать другие параметры и т.д). **"
   ]
  },
  {
   "cell_type": "markdown",
   "metadata": {},
   "source": [
    "## Data"
   ]
  },
  {
   "cell_type": "code",
   "execution_count": 13,
   "metadata": {
    "colab": {},
    "colab_type": "code",
    "id": "syGkglti0YFf",
    "scrolled": true
   },
   "outputs": [
    {
     "name": "stderr",
     "output_type": "stream",
     "text": [
      "/usr/local/lib/python3.6/dist-packages/scipy/sparse/sparsetools.py:21: DeprecationWarning: `scipy.sparse.sparsetools` is deprecated!\n",
      "scipy.sparse.sparsetools is a private module for scipy.sparse, and should not be used.\n",
      "  _deprecated()\n"
     ]
    }
   ],
   "source": [
    "import artm\n",
    "%matplotlib inline\n",
    "import glob\n",
    "import os, re\n",
    "import matplotlib.pyplot as plt\n",
    "from collections import defaultdict, Counter\n",
    "from nltk.corpus import stopwords\n",
    "import numpy as np\n",
    "from pymorphy2 import MorphAnalyzer\n",
    "import gensim, nltk\n",
    "import string\n",
    "morph = MorphAnalyzer()\n",
    "from nltk.tokenize import word_tokenize"
   ]
  },
  {
   "cell_type": "code",
   "execution_count": 14,
   "metadata": {
    "colab": {
     "base_uri": "https://localhost:8080/",
     "height": 108
    },
    "colab_type": "code",
    "id": "DzdHfztLA1L8",
    "outputId": "c21f940c-f460-4282-adc0-6f361e8680ba"
   },
   "outputs": [
    {
     "name": "stderr",
     "output_type": "stream",
     "text": [
      "[nltk_data] Downloading package punkt to /root/nltk_data...\n",
      "[nltk_data]   Package punkt is already up-to-date!\n",
      "[nltk_data] Downloading package stopwords to /root/nltk_data...\n",
      "[nltk_data]   Package stopwords is already up-to-date!\n"
     ]
    },
    {
     "data": {
      "text/plain": [
       "True"
      ]
     },
     "execution_count": 14,
     "metadata": {},
     "output_type": "execute_result"
    }
   ],
   "source": [
    "nltk.download('punkt');nltk.download('stopwords')"
   ]
  },
  {
   "cell_type": "code",
   "execution_count": null,
   "metadata": {
    "colab": {},
    "colab_type": "code",
    "id": "1hLw-SVu0YFm"
   },
   "outputs": [],
   "source": [
    "stops = set(stopwords.words('russian')) | {'gt',}\n",
    "def remove_tags(text):\n",
    "    return re.sub(r'<[^>]+>', '', text)\n",
    "\n",
    "class FasterMorph:\n",
    "    \n",
    "    def __init__(self):\n",
    "        self.morph = MorphAnalyzer()\n",
    "        self.__cache = {}\n",
    "    \n",
    "    def analyze(self, word):\n",
    "        if word not in self.__cache:\n",
    "            self.__cache[word] = self.morph.parse(word)[0].normal_form\n",
    "        return self.__cache[word]\n",
    "        \n",
    "\n",
    "        \n",
    "def opt_normalize(texts, top=None):\n",
    "    analyzer = FasterMorph()\n",
    "    uniq = Counter()\n",
    "    for text in texts:\n",
    "        uniq.update(text)\n",
    "    \n",
    "    d = pd.DataFrame(uniq.most_common(top))\n",
    "    unique = d[(d[1] > d[1].quantile(0.2)) & (d[1] < d[1].quantile(0.8))][0].tolist()\n",
    "    norm_uniq = {word:analyzer.analyze(word) for word in unique}\n",
    "    \n",
    "    norm_texts = []\n",
    "    for text in texts:\n",
    "        norm_words = [norm_uniq.get(word) for word in text if norm_uniq.get(word)]\n",
    "        norm_words = [word for word in norm_words if word and word not in stops]\n",
    "        norm_texts.append(norm_words)\n",
    "        \n",
    "    return norm_texts\n",
    "\n",
    "def tokenize(text):\n",
    "    words = [word.strip(string.punctuation) for word in text.split()]\n",
    "    words = [word for word in words if word]\n",
    "    return words"
   ]
  },
  {
   "cell_type": "code",
   "execution_count": 37,
   "metadata": {},
   "outputs": [],
   "source": [
    "with open('habr_texts.txt') as file:\n",
    "    texts = file.read().splitlines()"
   ]
  },
  {
   "cell_type": "code",
   "execution_count": 38,
   "metadata": {},
   "outputs": [],
   "source": [
    "texts = opt_normalize([tokenize(remove_tags(text.lower())) for text in texts], 20000)"
   ]
  },
  {
   "cell_type": "code",
   "execution_count": 41,
   "metadata": {},
   "outputs": [],
   "source": [
    "phrases = gensim.models.Phrases(texts, scoring='npmi', threshold=0.3, \n",
    "                           common_terms=set(stopwords.words('russian')))\n",
    "phraser = gensim.models.phrases.Phraser(phrases)\n",
    "ngrammed_habr_texts = phraser[texts]"
   ]
  },
  {
   "cell_type": "code",
   "execution_count": null,
   "metadata": {},
   "outputs": [],
   "source": [
    "def write_vw(texts, file_name):\n",
    "    with open(filename, 'w') as file:\n",
    "        for i, text in enumerate(ngrammed_habr_texts):\n",
    "            unique_words = Counter(text)\n",
    "            doc = f'doc_{i} ' \n",
    "            vw_text = ' '.join([f'{word}:{str(unique_words[word])}' for word in unique_words])\n",
    "            file.write(f'{doc}{vw_text}\\n')"
   ]
  },
  {
   "cell_type": "code",
   "execution_count": null,
   "metadata": {},
   "outputs": [],
   "source": [
    "write_vw(texts, 'habr_texts.vw')\n",
    "write_vw(ngrammed_habr_texts, 'habr_texts_ngram.vw')"
   ]
  },
  {
   "cell_type": "markdown",
   "metadata": {
    "colab_type": "text",
    "id": "VO4xO6zT0YFy"
   },
   "source": [
    "## Metrics"
   ]
  },
  {
   "cell_type": "code",
   "execution_count": 43,
   "metadata": {
    "colab": {},
    "colab_type": "code",
    "id": "xchX4sBs0YFz"
   },
   "outputs": [],
   "source": [
    "def print_measures(model_artm):\n",
    "    print('Sparsity Phi: {0:.3f} ARTM)'.format(\n",
    "        model_artm.score_tracker['SparsityPhiScore'].last_value)\n",
    ")\n",
    "    print('Sparsity Theta: {0:.3f} (ARTM)'.format(\n",
    "        model_artm.score_tracker['SparsityThetaScore'].last_value))\n",
    "\n",
    "    print('Kernel contrast: {0:.3f} (ARTM)'.format(\n",
    "        model_artm.score_tracker['TopicKernelScore'].last_average_contrast))\n",
    "\n",
    "    print('Kernel purity: {0:.3f} (ARTM)'.format(\n",
    "        model_artm.score_tracker['TopicKernelScore'].last_average_purity))\n",
    "\n",
    "    print('Perplexity: {0:.3f} (ARTM)'.format(\n",
    "        model_artm.score_tracker['PerplexityScore'].last_value)\n",
    ")\n",
    "    plt.plot(range(model_artm.num_phi_updates), model_artm.score_tracker['PerplexityScore'].value, 'r--', linewidth=2)\n",
    "    plt.xlabel('Iterations count')\n",
    "    plt.ylabel(' ARTM perp. (red)')\n",
    "    plt.grid(True)\n",
    "    plt.show()\n",
    "    "
   ]
  },
  {
   "cell_type": "markdown",
   "metadata": {
    "colab_type": "text",
    "id": "GHFVe6gK0YF2"
   },
   "source": [
    "## Batching"
   ]
  },
  {
   "cell_type": "code",
   "execution_count": 45,
   "metadata": {
    "colab": {},
    "colab_type": "code",
    "id": "NhIADC8O0YF2"
   },
   "outputs": [],
   "source": [
    "batch_vectorizer = artm.BatchVectorizer(data_path='habr_texts.vw',\n",
    "                                        data_format='vowpal_wabbit',\n",
    "                                        target_folder='batches',\n",
    "                                       batch_size=5000)"
   ]
  },
  {
   "cell_type": "code",
   "execution_count": 47,
   "metadata": {
    "colab": {},
    "colab_type": "code",
    "id": "Qe0-ERcn0YF8"
   },
   "outputs": [],
   "source": [
    "dictionary = artm.Dictionary()"
   ]
  },
  {
   "cell_type": "code",
   "execution_count": 48,
   "metadata": {
    "colab": {
     "base_uri": "https://localhost:8080/",
     "height": 35
    },
    "colab_type": "code",
    "id": "S6nXvdOq0YGA",
    "outputId": "0e27950a-f0f1-4d32-91c4-e71fb2bd765d"
   },
   "outputs": [
    {
     "data": {
      "text/plain": [
       "artm.Dictionary(name=d6125c22-f8cd-4bef-abfd-43e468696d1d, num_entries=9350)"
      ]
     },
     "execution_count": 48,
     "metadata": {},
     "output_type": "execute_result"
    }
   ],
   "source": [
    "dictionary.gather(data_path='batches')\n",
    "dictionary.filter(class_id='@default_class')"
   ]
  },
  {
   "cell_type": "code",
   "execution_count": 49,
   "metadata": {
    "colab": {},
    "colab_type": "code",
    "id": "I273a14r0YGC"
   },
   "outputs": [],
   "source": [
    "dictionary.save_text('dict.txt')"
   ]
  },
  {
   "cell_type": "markdown",
   "metadata": {},
   "source": [
    "## Model compilation"
   ]
  },
  {
   "cell_type": "code",
   "execution_count": 50,
   "metadata": {
    "colab": {},
    "colab_type": "code",
    "id": "7gTUMUh90YGG"
   },
   "outputs": [],
   "source": [
    "model_artm = artm.ARTM(topic_names=['topic_{}'.format(i) for i in range(200)],\n",
    "                       \n",
    "                       regularizers=[\n",
    "                           artm.DecorrelatorPhiRegularizer(\n",
    "                                            name='Decorr', tau=0.25, \n",
    "                                            class_ids=['@default_class'],\n",
    "                                            topic_names=['topic_{}'.format(i) for i in range(0, 200)]),\n",
    "                           \n",
    "                           artm.SmoothSparsePhiRegularizer(\n",
    "                                            name='SmoothPhi_1', \n",
    "                                            class_ids=['@default_class'],\n",
    "                                            tau=0.15, \n",
    "                                            topic_names=['topic_{}'.format(i) for i in range(0, 200)])\n",
    "                                    ]\n",
    "                        )"
   ]
  },
  {
   "cell_type": "code",
   "execution_count": 51,
   "metadata": {
    "colab": {},
    "colab_type": "code",
    "id": "ZXwur8c80YGI"
   },
   "outputs": [],
   "source": [
    "model_artm.initialize(dictionary=dictionary, )"
   ]
  },
  {
   "cell_type": "code",
   "execution_count": 52,
   "metadata": {
    "colab": {},
    "colab_type": "code",
    "id": "M7ofKFaN0YGK"
   },
   "outputs": [],
   "source": [
    "model_artm.scores.add(artm.PerplexityScore(name='PerplexityScore', dictionary=dictionary))\n",
    "model_artm.scores.add(artm.SparsityPhiScore(name='SparsityPhiScore'))\n",
    "model_artm.scores.add(artm.SparsityThetaScore(name='SparsityThetaScore'))\n",
    "model_artm.scores.add(artm.TopicKernelScore(name='TopicKernelScore', probability_mass_threshold=0.1))\n",
    "model_artm.scores.add(artm.TopTokensScore(class_id='@default_class', name='TopTokensScore_1', num_tokens=10))"
   ]
  },
  {
   "cell_type": "markdown",
   "metadata": {
    "colab_type": "text",
    "id": "vkujg5tp0YGN"
   },
   "source": [
    "## Model Training"
   ]
  },
  {
   "cell_type": "code",
   "execution_count": 53,
   "metadata": {
    "colab": {},
    "colab_type": "code",
    "id": "d3UPM4bd0YGO"
   },
   "outputs": [],
   "source": [
    "model_artm.num_document_passes = 3\n",
    "model_artm.fit_offline(batch_vectorizer=batch_vectorizer, num_collection_passes=3)"
   ]
  },
  {
   "cell_type": "code",
   "execution_count": 54,
   "metadata": {
    "colab": {
     "base_uri": "https://localhost:8080/",
     "height": 370
    },
    "colab_type": "code",
    "id": "sJNAHoO30YGR",
    "outputId": "dfa6250e-2aea-453a-e63c-931431e30904"
   },
   "outputs": [
    {
     "name": "stdout",
     "output_type": "stream",
     "text": [
      "Sparsity Phi: 0.000 ARTM)\n",
      "Sparsity Theta: 0.000 (ARTM)\n",
      "Kernel contrast: 0.014 (ARTM)\n",
      "Kernel purity: 0.001 (ARTM)\n",
      "Perplexity: 2365.723 (ARTM)\n"
     ]
    },
    {
     "data": {
      "image/png": "[encoded data removed]",
      "text/plain": [
       "<Figure size 432x288 with 1 Axes>"
      ]
     },
     "metadata": {
      "needs_background": "light"
     },
     "output_type": "display_data"
    }
   ],
   "source": [
    "print_measures(model_artm)"
   ]
  },
  {
   "cell_type": "markdown",
   "metadata": {},
   "source": [
    "Perplexity score of 2365.723 does not fit into the recommended range (from 200 to 1000)"
   ]
  },
  {
   "cell_type": "markdown",
   "metadata": {},
   "source": [
    "## Adding regulirisers"
   ]
  },
  {
   "cell_type": "code",
   "execution_count": 55,
   "metadata": {
    "colab": {},
    "colab_type": "code",
    "id": "zx8f5J140YGU"
   },
   "outputs": [],
   "source": [
    "model_artm.regularizers.add(artm.SmoothSparsePhiRegularizer(name='SparsePhi', tau=-0.15, \n",
    "                                                            topic_names=['topic_{}'.format(i) for i in range(1, 200)],\n",
    "                                                            ))\n",
    "model_artm.regularizers.add(artm.SmoothSparseThetaRegularizer(name='SparseTheta', tau=-0.15, \n",
    "                                                              topic_names=['topic_{}'.format(i) for i in range(1, 200)]))"
   ]
  },
  {
   "cell_type": "code",
   "execution_count": 56,
   "metadata": {
    "colab": {},
    "colab_type": "code",
    "id": "d-XyXPrF0YGX"
   },
   "outputs": [],
   "source": [
    "model_artm.fit_offline(batch_vectorizer = batch_vectorizer,num_collection_passes=1)"
   ]
  },
  {
   "cell_type": "markdown",
   "metadata": {},
   "source": [
    "## Incrementing the tau's"
   ]
  },
  {
   "cell_type": "code",
   "execution_count": 57,
   "metadata": {
    "colab": {},
    "colab_type": "code",
    "id": "CWrgduzK0YGY"
   },
   "outputs": [],
   "source": [
    "phi_tau = model_artm.regularizers['SparsePhi'].tau\n",
    "theta_tau = model_artm.regularizers['SparseTheta'].tau\n",
    "\n",
    "for i in range(10):\n",
    "    model_artm.regularizers['SparsePhi'].tau = (phi_tau + (phi_tau*0.5))\n",
    "    model_artm.regularizers['SparseTheta'].tau = (theta_tau + (theta_tau*0.1))\n",
    "    \n",
    "    model_artm.fit_offline(batch_vectorizer=batch_vectorizer,num_collection_passes=1)\n",
    "    "
   ]
  },
  {
   "cell_type": "code",
   "execution_count": 58,
   "metadata": {
    "colab": {
     "base_uri": "https://localhost:8080/",
     "height": 370
    },
    "colab_type": "code",
    "id": "Nz2ZycN80YGb",
    "outputId": "01b02a53-0b16-4569-b030-e0f8a74826ad"
   },
   "outputs": [
    {
     "name": "stdout",
     "output_type": "stream",
     "text": [
      "Sparsity Phi: 0.788 ARTM)\n",
      "Sparsity Theta: 0.200 (ARTM)\n",
      "Kernel contrast: 0.278 (ARTM)\n",
      "Kernel purity: 0.257 (ARTM)\n",
      "Perplexity: 1080.190 (ARTM)\n"
     ]
    },
    {
     "data": {
      "image/png": "[encoded data removed]",
      "text/plain": [
       "<Figure size 432x288 with 1 Axes>"
      ]
     },
     "metadata": {
      "needs_background": "light"
     },
     "output_type": "display_data"
    }
   ],
   "source": [
    "print_measures(model_artm)"
   ]
  },
  {
   "cell_type": "markdown",
   "metadata": {
    "colab_type": "text",
    "id": "r0pGwdLb0YGg"
   },
   "source": [
    "This experiment showed a great decrease of the perplexity score. This fact perfectly illustrates the viability of gradual regularisation parameter tau change."
   ]
  },
  {
   "cell_type": "code",
   "execution_count": 80,
   "metadata": {
    "colab": {
     "base_uri": "https://localhost:8080/",
     "height": 1000
    },
    "colab_type": "code",
    "id": "tDeYG2kt0YGg",
    "outputId": "82c67735-e8b1-434f-f17d-6cdb9a85953d"
   },
   "outputs": [
    {
     "name": "stdout",
     "output_type": "stream",
     "text": [
      "topic_0: \n",
      "это\n",
      "весь\n",
      "кат\n",
      "поезд\n",
      "который\n",
      "хабра\n",
      "работа\n",
      "самый\n",
      "менять\n",
      "последний\n",
      "---------\n",
      "topic_1: \n",
      "intel\n",
      "ноутбук\n",
      "компьютер\n",
      "память\n",
      "процессор\n",
      "usb\n",
      "lenovo\n",
      "гб\n",
      "клавиатура\n",
      "устройство\n",
      "---------\n",
      "topic_2: \n",
      "поиск\n",
      "социальный\n",
      "ресурс\n",
      "человек\n",
      "сообщество\n",
      "лицо\n",
      "который\n",
      "свой\n",
      "информация\n",
      "группа\n",
      "---------\n",
      "topic_3: \n",
      "оператор\n",
      "связь\n",
      "звонок\n",
      "который\n",
      "разговор\n",
      "весь\n",
      "мочь\n",
      "номер\n",
      "ценность\n",
      "услуга\n",
      "---------\n",
      "topic_4: \n",
      "время\n",
      "это\n",
      "результат\n",
      "который\n",
      "весь\n",
      "иметь\n",
      "процесс\n",
      "задача\n",
      "мочь\n",
      "использовать\n",
      "---------\n",
      "topic_5: \n",
      "это\n",
      "весь\n",
      "который\n",
      "мочь\n",
      "большой\n",
      "свой\n",
      "наш\n",
      "должный\n",
      "ещё\n",
      "процесс\n",
      "---------\n",
      "topic_6: \n",
      "фильм\n",
      "рейтинг\n",
      "который\n",
      "это\n",
      "хороший\n",
      "свой\n",
      "время\n",
      "просмотр\n",
      "весь\n",
      "ещё\n",
      "---------\n",
      "topic_7: \n",
      "команда\n",
      "заказчик\n",
      "проект\n",
      "задача\n",
      "разработчик\n",
      "разработка\n",
      "это\n",
      "должный\n",
      "тз\n",
      "весь\n",
      "---------\n",
      "topic_8: \n",
      "значение\n",
      "канал\n",
      "переменный\n",
      "поль\n",
      "пол\n",
      "кнопка\n",
      "событие\n",
      "текущий\n",
      "выбрать\n",
      "состояние\n",
      "---------\n",
      "topic_9: \n",
      "модель\n",
      "слой\n",
      "обучение\n",
      "сеть\n",
      "дать\n",
      "алгоритм\n",
      "признак\n",
      "нейрон\n",
      "параметр\n",
      "значение\n",
      "---------\n",
      "topic_10: \n",
      "регистр\n",
      "инструкция\n",
      "mov\n",
      "это\n",
      "адрес\n",
      "стек\n",
      "eax\n",
      "s\n",
      "ptr\n",
      "call\n",
      "---------\n",
      "topic_11: \n",
      "пользователь\n",
      "дать\n",
      "который\n",
      "каждый\n",
      "интерфейс\n",
      "весь\n",
      "задача\n",
      "приложение\n",
      "новый\n",
      "архитектура\n",
      "---------\n",
      "topic_12: \n",
      "это\n",
      "мочь\n",
      "весь\n",
      "проблема\n",
      "который\n",
      "работать\n",
      "время\n",
      "нужно\n",
      "—\n",
      "случай\n",
      "---------\n",
      "topic_13: \n",
      "год\n",
      "мир\n",
      "домашний\n",
      "человек\n",
      "технология\n",
      "новый\n",
      "отмечать\n",
      "стать\n",
      "мнение\n",
      "это\n",
      "---------\n",
      "topic_14: \n",
      "класс\n",
      "функция\n",
      "объект\n",
      "вызов\n",
      "код\n",
      "это\n",
      "который\n",
      "параметр\n",
      "использование\n",
      "метод\n",
      "---------\n",
      "topic_15: \n",
      "глаз\n",
      "который\n",
      "зрение\n",
      "это\n",
      "мозг\n",
      "животное\n",
      "вид\n",
      "активность\n",
      "результат\n",
      "возраст\n",
      "---------\n",
      "topic_16: \n",
      "комментарий\n",
      "это\n",
      "автор\n",
      "статья\n",
      "писать\n",
      "хороший\n",
      "написать\n",
      "проект\n",
      "весь\n",
      "нужно\n",
      "---------\n",
      "topic_17: \n",
      "сервис\n",
      "технология\n",
      "рынок\n",
      "продукт\n",
      "amazon\n",
      "решение\n",
      "компания\n",
      "платформа\n",
      "облачный\n",
      "свой\n",
      "---------\n",
      "topic_18: \n",
      "пользователь\n",
      "контент\n",
      "google\n",
      "который\n",
      "—\n",
      "facebook\n",
      "рекламный\n",
      "рынок\n",
      "сегмент\n",
      "продукт\n",
      "---------\n",
      "topic_19: \n",
      "to\n",
      "the\n",
      "a\n",
      "is\n",
      "for\n",
      "in\n",
      "this\n",
      "0x00\n",
      "you\n",
      "type\n",
      "---------\n",
      "topic_20: \n",
      "виртуальный\n",
      "машина\n",
      "копия\n",
      "восстановление\n",
      "копирование\n",
      "резервный\n",
      "возможность\n",
      "бэкап\n",
      "сервер\n",
      "виртуализация\n",
      "---------\n",
      "topic_21: \n",
      "драйвер\n",
      "default\n",
      "вызов\n",
      "пакет\n",
      "name\n",
      "device\n",
      "status\n",
      "настройка\n",
      "cpu\n",
      "id\n",
      "---------\n",
      "topic_22: \n",
      "частота\n",
      "плата\n",
      "напряжение\n",
      "сигнал\n",
      "схема\n",
      "ток\n",
      "выход\n",
      "режим\n",
      "питание\n",
      "микросхема\n",
      "---------\n",
      "topic_23: \n",
      "запись\n",
      "чтение\n",
      "дать\n",
      "мочь\n",
      "аппаратный\n",
      "каждый\n",
      "программный\n",
      "количество\n",
      "память\n",
      "накопитель\n",
      "---------\n",
      "topic_24: \n",
      "исследование\n",
      "учёный\n",
      "который\n",
      "исследователь\n",
      "научный\n",
      "результат\n",
      "эксперимент\n",
      "лаборатория\n",
      "работа\n",
      "мочь\n",
      "---------\n",
      "topic_25: \n",
      "земля\n",
      "год\n",
      "планета\n",
      "миссия\n",
      "астероид\n",
      "—\n",
      "который\n",
      "аппарат\n",
      "поверхность\n",
      "наса\n",
      "---------\n",
      "topic_26: \n",
      "рука\n",
      "который\n",
      "палец\n",
      "свой\n",
      "сделать\n",
      "это\n",
      "мочь\n",
      "нога\n",
      "большой\n",
      "—\n",
      "---------\n",
      "topic_27: \n",
      "лазер\n",
      "это\n",
      "поверхность\n",
      "ещё\n",
      "операция\n",
      "самый\n",
      "стекло\n",
      "очень\n",
      "случай\n",
      "весь\n",
      "---------\n",
      "topic_28: \n",
      "это\n",
      "весь\n",
      "делать\n",
      "человек\n",
      "какой-то\n",
      "что-то\n",
      "мочь\n",
      "просто\n",
      "ещё\n",
      "знать\n",
      "---------\n",
      "topic_29: \n",
      "ребёнок\n",
      "знание\n",
      "курс\n",
      "навык\n",
      "студент\n",
      "программист\n",
      "обучение\n",
      "образование\n",
      "школа\n",
      "программирование\n",
      "---------\n",
      "topic_30: \n",
      "который\n",
      "действие\n",
      "мочь\n",
      "дать\n",
      "использовать\n",
      "создание\n",
      "являться\n",
      "использование\n",
      "изменение\n",
      "создать\n",
      "---------\n",
      "topic_31: \n",
      "элемент\n",
      "стиль\n",
      "помощь\n",
      "это\n",
      "весь\n",
      "css\n",
      "color\n",
      "кнопка\n",
      "свойство\n",
      "блок\n",
      "---------\n",
      "topic_32: \n",
      "смартфон\n",
      "датчик\n",
      "аккумулятор\n",
      "телефон\n",
      "устройство\n",
      "батарея\n",
      "который\n",
      "это\n",
      "зарядка\n",
      "технология\n",
      "---------\n",
      "topic_33: \n",
      "это\n",
      "весь\n",
      "мочь\n",
      "который\n",
      "случай\n",
      "система\n",
      "каждый\n",
      "–\n",
      "поэтому\n",
      "большой\n",
      "---------\n",
      "topic_34: \n",
      "это\n",
      "ещё\n",
      "наш\n",
      "решить\n",
      "сделать\n",
      "—\n",
      "работать\n",
      "поэтому\n",
      "начать\n",
      "свой\n",
      "---------\n",
      "topic_35: \n",
      "пример\n",
      "github\n",
      "нужно\n",
      "который\n",
      "заметка\n",
      "мочь\n",
      "создавать\n",
      "необходимый\n",
      "вкладка\n",
      "комбинация\n",
      "---------\n",
      "topic_36: \n",
      "это\n",
      "который\n",
      "мочь\n",
      "наш\n",
      "должный\n",
      "просто\n",
      "знать\n",
      "поэтому\n",
      "например\n",
      "делать\n",
      "---------\n",
      "topic_37: \n",
      "который\n",
      "это\n",
      "уведомление\n",
      "состояние\n",
      "навигация\n",
      "использовать\n",
      "триггер\n",
      "необходимый\n",
      "мочь\n",
      "весь\n",
      "---------\n",
      "topic_38: \n",
      "пакет\n",
      "маршрут\n",
      "весь\n",
      "метка\n",
      "данный\n",
      "интерфейс\n",
      "это\n",
      "который\n",
      "адрес\n",
      "mac-адрес\n",
      "---------\n",
      "topic_39: \n",
      "звук\n",
      "наушник\n",
      "лекция\n",
      "усилитель\n",
      "музыка\n",
      "характеристика\n",
      "качество\n",
      "звуковой\n",
      "частота\n",
      "также\n",
      "---------\n",
      "topic_40: \n",
      "реализация\n",
      "структура\n",
      "сравнение\n",
      "объект\n",
      "значение\n",
      "экземпляр\n",
      "реализовать\n",
      "метод\n",
      "тип\n",
      "случай\n",
      "---------\n",
      "topic_41: \n",
      "который\n",
      "мочь\n",
      "весь\n",
      "это\n",
      "свой\n",
      "ещё\n",
      "ваш\n",
      "очень\n",
      "вопрос\n",
      "делать\n",
      "---------\n",
      "topic_42: \n",
      "—\n",
      "ms\n",
      "5\n",
      "8\n",
      "2\n",
      "6\n",
      "2.2\n",
      "2.1\n",
      "скорость\n",
      "sec\n",
      "---------\n",
      "topic_43: \n",
      "функция\n",
      "function\n",
      "return\n",
      "result\n",
      "let\n",
      "const\n",
      "for\n",
      "2\n",
      "который\n",
      "new\n",
      "---------\n",
      "topic_44: \n",
      "это\n",
      "который\n",
      "форум\n",
      "весь\n",
      "мочь\n",
      "свой\n",
      "время\n",
      "самый\n",
      "работать\n",
      "начать\n",
      "---------\n",
      "topic_45: \n",
      "дать\n",
      "это\n",
      "мочь\n",
      "информация\n",
      "который\n",
      "оплата\n",
      "работа\n",
      "—\n",
      "форма\n",
      "весь\n",
      "---------\n",
      "topic_46: \n",
      "javascript\n",
      "js\n",
      "react\n",
      "использовать\n",
      "css\n",
      "angular\n",
      "node.js\n",
      "фреймворк\n",
      "помощь\n",
      "код\n",
      "---------\n",
      "topic_47: \n",
      "свет\n",
      "цвет\n",
      "индекс\n",
      "это\n",
      "лампа\n",
      "хороший\n",
      "яркость\n",
      "источник\n",
      "который\n",
      "спектр\n",
      "---------\n",
      "topic_48: \n",
      "метод\n",
      "свойство\n",
      "класс\n",
      "компонент\n",
      "return\n",
      "объект\n",
      "значение\n",
      "состояние\n",
      "react\n",
      "использовать\n",
      "---------\n",
      "topic_49: \n",
      "это\n",
      "программа\n",
      "который\n",
      "интерфейс\n",
      "диаграмма\n",
      "например\n",
      "использовать\n",
      "мочь\n",
      "каждый\n",
      "должный\n",
      "---------\n"
     ]
    }
   ],
   "source": [
    "# посмотрим на темы\n",
    "for topic_name in model_artm.topic_names[:50]:\n",
    "    print(topic_name + ': ')\n",
    "    try:\n",
    "        for x in model_artm.score_tracker['TopTokensScore_1'].last_tokens[topic_name]:\n",
    "            print(x)\n",
    "        print('---------')\n",
    "    except KeyError:\n",
    "        continue"
   ]
  },
  {
   "cell_type": "markdown",
   "metadata": {},
   "source": [
    "# Run 2"
   ]
  },
  {
   "cell_type": "markdown",
   "metadata": {},
   "source": [
    "In this run we will be using ngrammed texts"
   ]
  },
  {
   "cell_type": "code",
   "execution_count": 63,
   "metadata": {
    "colab": {},
    "colab_type": "code",
    "id": "NhIADC8O0YF2"
   },
   "outputs": [],
   "source": [
    "batch_vectorizer = artm.BatchVectorizer(data_path='habr_texts_ngram.vw',  # название файла\n",
    "                                        data_format='vowpal_wabbit', # формат файла, у нас vw\n",
    "                                        target_folder='batches', # название папки в которую положаться батчи\n",
    "                                       batch_size=5000) # размер батча, подбирайте под свою память"
   ]
  },
  {
   "cell_type": "code",
   "execution_count": 65,
   "metadata": {
    "colab": {},
    "colab_type": "code",
    "id": "Qe0-ERcn0YF8"
   },
   "outputs": [],
   "source": [
    "dictionary = artm.Dictionary()"
   ]
  },
  {
   "cell_type": "code",
   "execution_count": 66,
   "metadata": {
    "colab": {
     "base_uri": "https://localhost:8080/",
     "height": 35
    },
    "colab_type": "code",
    "id": "S6nXvdOq0YGA",
    "outputId": "0e27950a-f0f1-4d32-91c4-e71fb2bd765d"
   },
   "outputs": [
    {
     "data": {
      "text/plain": [
       "artm.Dictionary(name=e7be806c-2388-4db2-b637-144a319f25c5, num_entries=26215)"
      ]
     },
     "execution_count": 66,
     "metadata": {},
     "output_type": "execute_result"
    }
   ],
   "source": [
    "dictionary.gather(data_path='batches')\n",
    "dictionary.filter(class_id='@default_class')"
   ]
  },
  {
   "cell_type": "code",
   "execution_count": 67,
   "metadata": {
    "colab": {},
    "colab_type": "code",
    "id": "I273a14r0YGC"
   },
   "outputs": [],
   "source": [
    "dictionary.save_text('dict_ngram.txt')"
   ]
  },
  {
   "cell_type": "code",
   "execution_count": 68,
   "metadata": {
    "colab": {},
    "colab_type": "code",
    "id": "7gTUMUh90YGG"
   },
   "outputs": [],
   "source": [
    "model_artm_ngram = artm.ARTM(topic_names=['topic_{}'.format(i) for i in range(200)],\n",
    "                       \n",
    "                       regularizers=[\n",
    "                           artm.DecorrelatorPhiRegularizer(\n",
    "                                            name='Decorr', tau=0.25, \n",
    "                                            class_ids=['@default_class'],\n",
    "                                            topic_names=['topic_{}'.format(i) for i in range(0, 200)]),\n",
    "                           \n",
    "                           artm.SmoothSparsePhiRegularizer(\n",
    "                                            name='SmoothPhi_1', \n",
    "                                            class_ids=['@default_class'],\n",
    "                                            tau=0.15, \n",
    "                                            topic_names=['topic_{}'.format(i) for i in range(0, 200)])\n",
    "                                    ]\n",
    "                        )"
   ]
  },
  {
   "cell_type": "code",
   "execution_count": 69,
   "metadata": {
    "colab": {},
    "colab_type": "code",
    "id": "ZXwur8c80YGI"
   },
   "outputs": [],
   "source": [
    "model_artm_ngram.initialize(dictionary=dictionary)"
   ]
  },
  {
   "cell_type": "code",
   "execution_count": 70,
   "metadata": {
    "colab": {},
    "colab_type": "code",
    "id": "M7ofKFaN0YGK"
   },
   "outputs": [],
   "source": [
    "model_artm_ngram.scores.add(artm.PerplexityScore(name='PerplexityScore',\n",
    "                                                    dictionary=dictionary))\n",
    "model_artm_ngram.scores.add(artm.SparsityPhiScore(name='SparsityPhiScore')) # разреженность слов в темах\n",
    "model_artm_ngram.scores.add(artm.SparsityThetaScore(name='SparsityThetaScore')) # разреженность тем в доках\n",
    "model_artm_ngram.scores.add(artm.TopicKernelScore(name='TopicKernelScore', probability_mass_threshold=0.1)) # когерентность по семантичесим ядрам\n",
    "model_artm_ngram.scores.add(artm.TopTokensScore(class_id='@default_class', name='TopTokensScore_1', num_tokens=10)) # топ-n-слов для каждой темы "
   ]
  },
  {
   "cell_type": "code",
   "execution_count": 71,
   "metadata": {
    "colab": {},
    "colab_type": "code",
    "id": "d3UPM4bd0YGO"
   },
   "outputs": [],
   "source": [
    "model_artm_ngram.num_document_passes = 3\n",
    "model_artm_ngram.fit_offline(batch_vectorizer=batch_vectorizer, num_collection_passes=3)"
   ]
  },
  {
   "cell_type": "code",
   "execution_count": 73,
   "metadata": {
    "colab": {
     "base_uri": "https://localhost:8080/",
     "height": 370
    },
    "colab_type": "code",
    "id": "sJNAHoO30YGR",
    "outputId": "dfa6250e-2aea-453a-e63c-931431e30904"
   },
   "outputs": [
    {
     "name": "stdout",
     "output_type": "stream",
     "text": [
      "Sparsity Phi: 0.000 ARTM)\n",
      "Sparsity Theta: 0.000 (ARTM)\n",
      "Kernel contrast: 0.007 (ARTM)\n",
      "Kernel purity: 0.000 (ARTM)\n",
      "Perplexity: 3362.435 (ARTM)\n"
     ]
    },
    {
     "data": {
      "image/png": "[encoded data removed]",
      "text/plain": [
       "<Figure size 432x288 with 1 Axes>"
      ]
     },
     "metadata": {
      "needs_background": "light"
     },
     "output_type": "display_data"
    }
   ],
   "source": [
    "print_measures(model_artm_ngram)"
   ]
  },
  {
   "cell_type": "markdown",
   "metadata": {},
   "source": [
    "Using ngrammed texts caused perplexity to rise"
   ]
  },
  {
   "cell_type": "code",
   "execution_count": 74,
   "metadata": {
    "colab": {},
    "colab_type": "code",
    "id": "zx8f5J140YGU"
   },
   "outputs": [],
   "source": [
    "model_artm_ngram.regularizers.add(artm.SmoothSparsePhiRegularizer(name='SparsePhi', tau=-0.15, \n",
    "                                                            topic_names=['topic_{}'.format(i) for i in range(1, 200)],\n",
    "                                                            ))\n",
    "model_artm_ngram.regularizers.add(artm.SmoothSparseThetaRegularizer(name='SparseTheta', tau=-0.15, \n",
    "                                                              topic_names=['topic_{}'.format(i) for i in range(1, 200)]))"
   ]
  },
  {
   "cell_type": "code",
   "execution_count": 75,
   "metadata": {
    "colab": {},
    "colab_type": "code",
    "id": "d-XyXPrF0YGX"
   },
   "outputs": [],
   "source": [
    "model_artm_ngram.fit_offline(batch_vectorizer=batch_vectorizer,num_collection_passes=1)"
   ]
  },
  {
   "cell_type": "code",
   "execution_count": 77,
   "metadata": {
    "colab": {},
    "colab_type": "code",
    "id": "CWrgduzK0YGY"
   },
   "outputs": [],
   "source": [
    "phi_tau = model_artm_ngram.regularizers['SparsePhi'].tau\n",
    "theta_tau = model_artm_ngram.regularizers['SparseTheta'].tau\n",
    "\n",
    "for i in range(10):\n",
    "    model_artm_ngram.regularizers['SparsePhi'].tau = (phi_tau + (phi_tau*0.7))\n",
    "    model_artm_ngram.regularizers['SparseTheta'].tau = (theta_tau + (theta_tau*0.3))\n",
    "    model_artm_ngram.fit_offline(batch_vectorizer=batch_vectorizer,num_collection_passes=1)"
   ]
  },
  {
   "cell_type": "code",
   "execution_count": 78,
   "metadata": {
    "colab": {
     "base_uri": "https://localhost:8080/",
     "height": 370
    },
    "colab_type": "code",
    "id": "Nz2ZycN80YGb",
    "outputId": "01b02a53-0b16-4569-b030-e0f8a74826ad"
   },
   "outputs": [
    {
     "name": "stdout",
     "output_type": "stream",
     "text": [
      "Sparsity Phi: 0.926 ARTM)\n",
      "Sparsity Theta: 0.241 (ARTM)\n",
      "Kernel contrast: 0.357 (ARTM)\n",
      "Kernel purity: 0.261 (ARTM)\n",
      "Perplexity: 1448.140 (ARTM)\n"
     ]
    },
    {
     "data": {
      "image/png": "[encoded data removed]",
      "text/plain": [
       "<Figure size 432x288 with 1 Axes>"
      ]
     },
     "metadata": {
      "needs_background": "light"
     },
     "output_type": "display_data"
    }
   ],
   "source": [
    "print_measures(model_artm_ngram)"
   ]
  },
  {
   "cell_type": "markdown",
   "metadata": {
    "colab_type": "text",
    "id": "r0pGwdLb0YGg"
   },
   "source": [
    "After increasing phi_tau by 0.2 and theta_tau by 0.1 and using ngramms, we can witness an increase in perplexity by ~400 in comparison to previous regularized run"
   ]
  },
  {
   "cell_type": "markdown",
   "metadata": {},
   "source": [
    "Best topics were found by the word-level model with SmoothSparsePhiRegularizer(tau=-0.15) and SmoothSparseThetaRegularizer(tau=-0.15). The model passed each document 3 times and the whole collection also 3 times. During training Phi_tau was increased by half of the current value, while Theta_tau by 0.1."
   ]
  },
  {
   "cell_type": "markdown",
   "metadata": {},
   "source": [
    "Верстка: \n",
    "    элемент\n",
    "    стиль\n",
    "    помощь\n",
    "    это\n",
    "    весь\n",
    "    css\n",
    "    color\n",
    "    кнопка\n",
    "    свойство\n",
    "    блок\n",
    "    \n",
    "Assembler: \n",
    "регистр\n",
    "инструкция\n",
    "mov\n",
    "это\n",
    "адрес\n",
    "стек\n",
    "eax\n",
    "s\n",
    "ptr\n",
    "call\n",
    "\n",
    "UX: \n",
    "пользователь\n",
    "дать\n",
    "который\n",
    "каждый\n",
    "интерфейс\n",
    "весь\n",
    "задача\n",
    "приложение\n",
    "новый\n",
    "архитектура"
   ]
  },
  {
   "cell_type": "code",
   "execution_count": null,
   "metadata": {},
   "outputs": [],
   "source": []
  }
 ],
 "metadata": {
  "colab": {
   "name": "SEMINAR_2_Topic_model_BigARTM.ipynb",
   "provenance": []
  },
  "kernelspec": {
   "display_name": "Python 3",
   "language": "python",
   "name": "python3"
  },
  "language_info": {
   "codemirror_mode": {
    "name": "ipython",
    "version": 3
   },
   "file_extension": ".py",
   "mimetype": "text/x-python",
   "name": "python",
   "nbconvert_exporter": "python",
   "pygments_lexer": "ipython3",
   "version": "3.6.9"
  }
 },
 "nbformat": 4,
 "nbformat_minor": 1
}

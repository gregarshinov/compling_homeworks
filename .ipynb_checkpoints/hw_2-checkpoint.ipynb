{
 "cells": [
  {
   "cell_type": "code",
   "execution_count": 45,
   "metadata": {},
   "outputs": [],
   "source": [
    "from collections import Counter\n",
    "import numpy as np\n",
    "from nltk import sent_tokenize\n",
    "from string import punctuation"
   ]
  },
  {
   "cell_type": "code",
   "execution_count": 35,
   "metadata": {},
   "outputs": [],
   "source": [
    "dostoevsky = open('../compling_nlp_hse_course/data/besy_dostoevsky.txt', encoding='cp1251').read()"
   ]
  },
  {
   "cell_type": "code",
   "execution_count": 41,
   "metadata": {},
   "outputs": [],
   "source": [
    "def normalize(text):\n",
    "    return [word.strip(punctuation) for word in text.lower().split() if word]\n",
    "\n",
    "def window(collection, size):\n",
    "    for i in range(len(collection) - size + 1):\n",
    "        yield tuple(collection[inc] for inc in range(i, i + size))\n",
    "\n",
    "def pad(collection, left=\"<SOS>\", right=[\"<EOS>\"]):\n",
    "    return [left] + collection + [right]"
   ]
  },
  {
   "cell_type": "code",
   "execution_count": 46,
   "metadata": {},
   "outputs": [],
   "source": [
    "sentences_dostoevsky = [pad(normalize(text)) for text in sent_tokenize(dostoevsky)]"
   ]
  },
  {
   "cell_type": "code",
   "execution_count": null,
   "metadata": {},
   "outputs": [],
   "source": []
  }
 ],
 "metadata": {
  "kernelspec": {
   "display_name": "Python 3",
   "language": "python",
   "name": "python3"
  },
  "language_info": {
   "codemirror_mode": {
    "name": "ipython",
    "version": 3
   },
   "file_extension": ".py",
   "mimetype": "text/x-python",
   "name": "python",
   "nbconvert_exporter": "python",
   "pygments_lexer": "ipython3",
   "version": "3.7.4"
  }
 },
 "nbformat": 4,
 "nbformat_minor": 2
}
